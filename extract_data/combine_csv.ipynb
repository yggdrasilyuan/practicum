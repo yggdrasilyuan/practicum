{
 "cells": [
  {
   "cell_type": "code",
   "execution_count": 21,
   "metadata": {},
   "outputs": [],
   "source": [
    "import os\n",
    "import pandas as pd\n",
    "import numpy as np\n",
    "import ndjson\n",
    "import fnmatch\n",
    "\n",
    "\n",
    "file_list = os.listdir('F:\\\\outcome\\\\')\n",
    "\n",
    "combine_csv=pd.DataFrame()\n",
    "for file in file_list:\n",
    "    temp=pd.read_csv(\"F:\\\\outcome\\\\\"+os.path.join(file),sep=',')\n",
    "    temp['country']=file.split('_')[1].split('.')[0]\n",
    "    combine_csv=combine_csv.append(temp)\n",
    "\n",
    "combine_csv.to_csv(\"F:\\\\test_outcome\\\\combine_outcome.csv\",sep=',',header=True)\n",
    "# out=pd.DataFrame(combine_csv,columns=)\n",
    "# out\n",
    "\n"
   ]
  },
  {
   "cell_type": "markdown",
   "metadata": {},
   "source": []
  }
 ],
 "metadata": {
  "kernelspec": {
   "display_name": "practicum",
   "language": "python",
   "name": "python3"
  },
  "language_info": {
   "codemirror_mode": {
    "name": "ipython",
    "version": 3
   },
   "file_extension": ".py",
   "mimetype": "text/x-python",
   "name": "python",
   "nbconvert_exporter": "python",
   "pygments_lexer": "ipython3",
   "version": "3.7.9"
  },
  "orig_nbformat": 4,
  "vscode": {
   "interpreter": {
    "hash": "f3e1d988fd02f3af9046135819fd37ed5d41f46c7de55723b70daeaf254c35f3"
   }
  }
 },
 "nbformat": 4,
 "nbformat_minor": 2
}
