{
 "cells": [
  {
   "attachments": {},
   "cell_type": "markdown",
   "metadata": {},
   "source": [
    "Question 1"
   ]
  },
  {
   "cell_type": "code",
   "execution_count": 43,
   "metadata": {},
   "outputs": [
    {
     "name": "stdout",
     "output_type": "stream",
     "text": [
      "[0.5, 0, 0, 0, 0, 0, 0, 0, 0, 0, 0, 0, 0, 0, 0, 0, 0, 0, 0, 0, 0, 0, 0, 0, 0, 0, 0, 0, 0, 0, 0, 0, 0, 0, 0, 0, 0]\n"
     ]
    }
   ],
   "source": [
    "import numpy as np\n",
    "\n",
    "\n",
    "eurobor = [2.89375,1.64250,1.25975,0.73188,0.67750,0.59438,0.65188,0.82469,0.95563,1.12563,1.41813,1.47813,1.35643,0.78400,0.57671,0.15857,0.12214,0.12571\n",
    ",0.13000\n",
    ",0.15214\n",
    ",0.25571\n",
    ",0.27214\n",
    ",0.20571\n",
    ",0.05071\n",
    ",0.06000\n",
    ",0.01857\n",
    ",-0.01143\n",
    ",-0.04286\n",
    ",-0.12214\n",
    ",-0.23571\n",
    ",-0.28114\n",
    ",-0.32014\n",
    ",-0.33429\n",
    ",-0.35429\n",
    ",-0.37143\n",
    ",-0.37457\n",
    ",-0.38643]\n",
    "\n",
    "digicoupon = []\n",
    "\n",
    "for i in eurobor:\n",
    "    if i > 2 and i < 6:\n",
    "        digicoupon.append(0.5)\n",
    "    else:\n",
    "        digicoupon.append(0)\n",
    "print(digicoupon)"
   ]
  },
  {
   "cell_type": "code",
   "execution_count": 44,
   "metadata": {},
   "outputs": [
    {
     "name": "stdout",
     "output_type": "stream",
     "text": [
      "[0.44 0.88 0.88 0.88]\n",
      "[ 0.        0.        1.05875   0.548875  2.062935  1.844185  3.426995\n",
      "  3.221055  4.68871   4.330895  5.64808   5.059015  6.19995   5.641735\n",
      "  7.129735  6.96138   8.762095  8.821025 10.63817  10.69317  12.4971\n",
      " 12.489245 14.233175 14.25032  16.104965 16.194965 18.06568  18.191395\n",
      " 20.092825 20.273895 22.27175  22.53232  24.57239  24.859535 26.91668\n",
      " 27.222395 29.28968  29.602895]\n"
     ]
    }
   ],
   "source": [
    "x = []\n",
    "y = []\n",
    "\n",
    "for i in range (0, len(eurobor)):\n",
    "    x.append(2 * np.maximum(2. - eurobor[i], 0))\n",
    "\n",
    "for i in range (0, len(eurobor)):\n",
    "    y.append(2 * np.maximum(eurobor[i] - 6., 0))\n",
    "\n",
    "spreads = np.zeros(len(eurobor) + 1)\n",
    "\n",
    "fix_return = np.array([1.76/4] + [1.76/2] * 3)\n",
    "\n",
    "print(fix_return)\n",
    "\n",
    "for i in range (0, len(eurobor)):\n",
    "    spreads[i+1] = np.maximum(0., spreads[i] + x[i] + y[i] - digicoupon[i])\n",
    "\n",
    "spreads[:] = spreads * 0.25\n",
    "\n",
    "spreads [2:-1:2] += 1.76/2\n",
    "\n",
    "print(spreads)"
   ]
  },
  {
   "cell_type": "code",
   "execution_count": 45,
   "metadata": {},
   "outputs": [
    {
     "name": "stdout",
     "output_type": "stream",
     "text": [
      "469.4779649999999\n",
      "418227614.21585923\n"
     ]
    }
   ],
   "source": [
    "sum1 = 0\n",
    "sum2 = 0\n",
    "\n",
    "for i in range(0, len(fix_return)):\n",
    "    sum1 += fix_return[i]\n",
    "for i in range (0, len(spreads)):\n",
    "    sum2 += spreads[i]\n",
    "\n",
    "print(sum1 + sum2)\n",
    "\n",
    "Notional = 89083545\n",
    "\n",
    "Net_Payment = Notional * (sum1 + sum2) *0.01\n",
    "\n",
    "print(Net_Payment)"
   ]
  },
  {
   "cell_type": "code",
   "execution_count": 46,
   "metadata": {},
   "outputs": [
    {
     "name": "stdout",
     "output_type": "stream",
     "text": [
      "372643564.2393592\n"
     ]
    }
   ],
   "source": [
    "fix_return = np.array([-0.75] + [-1.5]*3)\n",
    "spreads[2::2] -= 4.76/2\n",
    "a = np.sum(fix_return) + np.sum(spreads)\n",
    "print(a * Notional * 0.01)"
   ]
  },
  {
   "attachments": {},
   "cell_type": "markdown",
   "metadata": {},
   "source": [
    "Question 2"
   ]
  },
  {
   "cell_type": "code",
   "execution_count": 77,
   "metadata": {},
   "outputs": [
    {
     "data": {
      "text/plain": [
       "0.047880957619152384"
      ]
     },
     "execution_count": 77,
     "metadata": {},
     "output_type": "execute_result"
    }
   ],
   "source": [
    "import pandas as pd\n",
    "k = 0.20\n",
    "b = 0.0065\n",
    "t = 0\n",
    "r0 = 0.00242291\n",
    "yeild = pd.read_excel('/Users/shuxianglei/Desktop/Eurozone_zero_coupon_yield_curves.xlsx')\n",
    "yeild\n",
    "T = yeild[\"T\"].values\n",
    "\n",
    "r_star = np.linspace(0, 1., 50000)\n",
    "\n",
    "# G1 = 1/k(1 - np.exp(-k*(T-t)))\n",
    "\n",
    "# G0 = 1/(k**2)*(G1-T+t)*(r_star*(k**2)-(b**2)/2)-((b*G1)**2)/(4*k)\n",
    "\n",
    "# B = np.exp(G0 - r0 * G1)\n",
    "\n",
    "error_list = np.empty((50000))\n",
    "\n",
    "for i in range(len(r_star)):\n",
    "    G1 = 1/k*(1 - np.exp(-k*(T-t)))\n",
    "    #print(G1.shape, T.shape)\n",
    "    G0 = 1/(k**2)*(G1-T+t)*(r_star[i]*(k**2)-(b**2)/2)-((b*G1)**2)/(4*k)\n",
    "    B = np.exp(G0 - r0 * G1)\n",
    "    ir = (1/B)**(1/T) -1 \n",
    "    error_list[i] = np.mean(np.abs(ir - (yeild.loc[:,\"March\"]*0.01)))\n",
    "r_star[np.argmin(error_list)]\n"
   ]
  },
  {
   "cell_type": "code",
   "execution_count": 72,
   "metadata": {},
   "outputs": [
    {
     "data": {
      "text/plain": [
       "-1.7963712106369025"
      ]
     },
     "execution_count": 72,
     "metadata": {},
     "output_type": "execute_result"
    }
   ],
   "source": [
    "np.mean(ir - (yeild.loc[:,\"March\"].values))"
   ]
  },
  {
   "cell_type": "code",
   "execution_count": null,
   "metadata": {},
   "outputs": [],
   "source": []
  }
 ],
 "metadata": {
  "kernelspec": {
   "display_name": "practicum",
   "language": "python",
   "name": "python3"
  },
  "language_info": {
   "codemirror_mode": {
    "name": "ipython",
    "version": 3
   },
   "file_extension": ".py",
   "mimetype": "text/x-python",
   "name": "python",
   "nbconvert_exporter": "python",
   "pygments_lexer": "ipython3",
   "version": "3.7.9"
  },
  "orig_nbformat": 4,
  "vscode": {
   "interpreter": {
    "hash": "203da323273579ec230429ec83021f717a0b02c3371af76a5d76ba027b98163f"
   }
  }
 },
 "nbformat": 4,
 "nbformat_minor": 2
}
