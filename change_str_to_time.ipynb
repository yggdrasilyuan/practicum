{
 "cells": [
  {
   "cell_type": "code",
   "execution_count": 9,
   "metadata": {},
   "outputs": [
    {
     "data": {
      "text/plain": [
       "['AFRICA.csv',\n",
       " 'Asian Pacific.csv',\n",
       " 'Asian.csv',\n",
       " 'Caribbean.csv',\n",
       " 'EURO.csv',\n",
       " 'Middle East.csv',\n",
       " 'North America.csv',\n",
       " 'South America.csv']"
      ]
     },
     "execution_count": 9,
     "metadata": {},
     "output_type": "execute_result"
    }
   ],
   "source": [
    "\n",
    "import pandas as pd\n",
    "import datetime\n",
    "import os\n",
    "\n",
    "path= os.listdir(\"D:\\\\sample\")\n",
    "path"
   ]
  },
  {
   "cell_type": "code",
   "execution_count": 10,
   "metadata": {},
   "outputs": [],
   "source": [
    "for i in path:\n",
    "    data=pd.read_csv(\"D:\\\\sample\\\\\"+os.path.join(i))\n",
    "    data[\"FILING_DATE\"]=data[\"FILING_DATE\"].apply(lambda x: datetime.datetime.strptime(x,\"%m/%d/%Y\"))\n",
    "    data[\"MODIFIED_AT\"]=data[\"MODIFIED_AT\"].apply(lambda x: datetime.datetime.strptime(x,\"%m/%d/%Y %H:%M\"))\n",
    "    data.to_csv(\"D:\\\\output\\\\\"+os.path.join(i),sep=\",\",header=True)"
   ]
  }
 ],
 "metadata": {
  "kernelspec": {
   "display_name": "practicum",
   "language": "python",
   "name": "python3"
  },
  "language_info": {
   "codemirror_mode": {
    "name": "ipython",
    "version": 3
   },
   "file_extension": ".py",
   "mimetype": "text/x-python",
   "name": "python",
   "nbconvert_exporter": "python",
   "pygments_lexer": "ipython3",
   "version": "3.7.9"
  },
  "orig_nbformat": 4,
  "vscode": {
   "interpreter": {
    "hash": "f3e1d988fd02f3af9046135819fd37ed5d41f46c7de55723b70daeaf254c35f3"
   }
  }
 },
 "nbformat": 4,
 "nbformat_minor": 2
}
